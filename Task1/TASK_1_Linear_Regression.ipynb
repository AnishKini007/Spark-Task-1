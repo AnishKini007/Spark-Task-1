{
  "nbformat": 4,
  "nbformat_minor": 0,
  "metadata": {
    "colab": {
      "name": "TASK 1. Linear Regression.ipynb",
      "provenance": [],
      "collapsed_sections": []
    },
    "kernelspec": {
      "name": "python3",
      "display_name": "Python 3"
    }
  },
  "cells": [
    {
      "cell_type": "markdown",
      "metadata": {
        "id": "X6A8Hm86UUZ-"
      },
      "source": [
        "BY: T ANISH KINI"
      ]
    },
    {
      "cell_type": "code",
      "metadata": {
        "id": "V9QN2ZxC38pB"
      },
      "source": [
        "# Importing libraries \n",
        "import pandas as pd\n",
        "import numpy as np  \n",
        "import matplotlib.pyplot as plt \n",
        "from sklearn.model_selection import train_test_split   \n",
        "from sklearn.linear_model import LinearRegression \n",
        "from sklearn import metrics "
      ],
      "execution_count": null,
      "outputs": []
    },
    {
      "cell_type": "code",
      "metadata": {
        "id": "LtU4YMEhqm9m"
      },
      "source": [
        "url = \"http://bit.ly/w-data\"\n",
        "data = pd.read_csv(url)"
      ],
      "execution_count": null,
      "outputs": []
    },
    {
      "cell_type": "markdown",
      "metadata": {
        "id": "RHsPneuM4NgB"
      },
      "source": [
        "Let's plot our data points on 2-D graph to eyeball our dataset and see if we can manually find any relationship between the data. We can create the plot with the following script:"
      ]
    },
    {
      "cell_type": "code",
      "metadata": {
        "id": "qxYBZkhAqpn9",
        "colab": {
          "base_uri": "https://localhost:8080/",
          "height": 279
        },
        "outputId": "4b7bf1a1-b01f-4904-c325-9472042e6101"
      },
      "source": [
        "# Plotting the distribution of scores\n",
        "data.plot(x='Hours', y='Scores', style='o')  \n",
        "plt.xlabel('Hours')  \n",
        "plt.ylabel('Scores')  \n",
        "plt.show()"
      ],
      "execution_count": null,
      "outputs": [
        {
          "output_type": "display_data",
          "data": {
            "image/png": "[encoded data removed]",
            "text/plain": [
              "<Figure size 432x288 with 1 Axes>"
            ]
          },
          "metadata": {
            "tags": [],
            "needs_background": "light"
          }
        }
      ]
    },
    {
      "cell_type": "markdown",
      "metadata": {
        "id": "cTqLlHCQIPph"
      },
      "source": [
        "Preparing the Data"
      ]
    },
    {
      "cell_type": "code",
      "metadata": {
        "colab": {
          "base_uri": "https://localhost:8080/",
          "height": 195
        },
        "id": "q5UEJWkRHLKs",
        "outputId": "4dce02f8-957f-42e4-ea67-9292535b52ea"
      },
      "source": [
        "data.head()"
      ],
      "execution_count": null,
      "outputs": [
        {
          "output_type": "execute_result",
          "data": {
            "text/html": [
              "<div>\n",
              "<style scoped>\n",
              "    .dataframe tbody tr th:only-of-type {\n",
              "        vertical-align: middle;\n",
              "    }\n",
              "\n",
              "    .dataframe tbody tr th {\n",
              "        vertical-align: top;\n",
              "    }\n",
              "\n",
              "    .dataframe thead th {\n",
              "        text-align: right;\n",
              "    }\n",
              "</style>\n",
              "<table border=\"1\" class=\"dataframe\">\n",
              "  <thead>\n",
              "    <tr style=\"text-align: right;\">\n",
              "      <th></th>\n",
              "      <th>Hours</th>\n",
              "      <th>Scores</th>\n",
              "    </tr>\n",
              "  </thead>\n",
              "  <tbody>\n",
              "    <tr>\n",
              "      <th>0</th>\n",
              "      <td>2.5</td>\n",
              "      <td>21</td>\n",
              "    </tr>\n",
              "    <tr>\n",
              "      <th>1</th>\n",
              "      <td>5.1</td>\n",
              "      <td>47</td>\n",
              "    </tr>\n",
              "    <tr>\n",
              "      <th>2</th>\n",
              "      <td>3.2</td>\n",
              "      <td>27</td>\n",
              "    </tr>\n",
              "    <tr>\n",
              "      <th>3</th>\n",
              "      <td>8.5</td>\n",
              "      <td>75</td>\n",
              "    </tr>\n",
              "    <tr>\n",
              "      <th>4</th>\n",
              "      <td>3.5</td>\n",
              "      <td>30</td>\n",
              "    </tr>\n",
              "  </tbody>\n",
              "</table>\n",
              "</div>"
            ],
            "text/plain": [
              "   Hours  Scores\n",
              "0    2.5      21\n",
              "1    5.1      47\n",
              "2    3.2      27\n",
              "3    8.5      75\n",
              "4    3.5      30"
            ]
          },
          "metadata": {
            "tags": []
          },
          "execution_count": 5
        }
      ]
    },
    {
      "cell_type": "code",
      "metadata": {
        "id": "LiJ5210e4tNX"
      },
      "source": [
        "X = data.iloc[:, :-1].values  \n",
        "y = data.iloc[:, 1].values  "
      ],
      "execution_count": null,
      "outputs": []
    },
    {
      "cell_type": "markdown",
      "metadata": {
        "id": "Riz-ZiZ34fO4"
      },
      "source": [
        "Now that we have our attributes and labels, the next step is to split this data into training and test sets. We'll do this by using Scikit-Learn's built-in train_test_split() method:"
      ]
    },
    {
      "cell_type": "code",
      "metadata": {
        "id": "udFYso1M4BNw"
      },
      "source": [
        "X_train, X_test, y_train, y_test = train_test_split(X, y,test_size=0.2, random_state=47) "
      ],
      "execution_count": null,
      "outputs": []
    },
    {
      "cell_type": "markdown",
      "metadata": {
        "id": "a6WXptFU5CkC"
      },
      "source": [
        "Training the model"
      ]
    },
    {
      "cell_type": "code",
      "metadata": {
        "id": "qddCuaS84fpK",
        "colab": {
          "base_uri": "https://localhost:8080/"
        },
        "outputId": "22f8aff1-3772-478f-8f05-94893f35a9aa"
      },
      "source": [
        "LR= LinearRegression()  \n",
        "LR.fit(X_train, y_train) "
      ],
      "execution_count": null,
      "outputs": [
        {
          "output_type": "execute_result",
          "data": {
            "text/plain": [
              "LinearRegression(copy_X=True, fit_intercept=True, n_jobs=None, normalize=False)"
            ]
          },
          "metadata": {
            "tags": []
          },
          "execution_count": 8
        }
      ]
    },
    {
      "cell_type": "code",
      "metadata": {
        "id": "J61NX2_2-px7",
        "colab": {
          "base_uri": "https://localhost:8080/",
          "height": 265
        },
        "outputId": "170f9246-c044-4e3f-b9d9-a03295b878ff"
      },
      "source": [
        "line = LR.coef_*X+LR.intercept_\n",
        "plt.scatter(X, y)\n",
        "plt.plot(X, line);\n",
        "plt.show()"
      ],
      "execution_count": null,
      "outputs": [
        {
          "output_type": "display_data",
          "data": {
            "image/png": "[encoded data removed]",
            "text/plain": [
              "<Figure size 432x288 with 1 Axes>"
            ]
          },
          "metadata": {
            "tags": [],
            "needs_background": "light"
          }
        }
      ]
    },
    {
      "cell_type": "markdown",
      "metadata": {
        "id": "JCQn-g4m5OK2"
      },
      "source": [
        "\n",
        "**Predictions**"
      ]
    },
    {
      "cell_type": "code",
      "metadata": {
        "id": "Tt-Fmzu55EGM",
        "colab": {
          "base_uri": "https://localhost:8080/"
        },
        "outputId": "eeb4e49f-90fc-430f-c4e9-1b2aef8f6f3a"
      },
      "source": [
        "print(X_test)\n",
        "print(y_test)\n",
        "y_pred = LR.predict(X_test)"
      ],
      "execution_count": null,
      "outputs": [
        {
          "output_type": "stream",
          "text": [
            "[[1.5]\n",
            " [6.9]\n",
            " [2.7]\n",
            " [2.7]\n",
            " [2.5]]\n",
            "[20 76 25 30 21]\n"
          ],
          "name": "stdout"
        }
      ]
    },
    {
      "cell_type": "code",
      "metadata": {
        "colab": {
          "base_uri": "https://localhost:8080/"
        },
        "id": "mXN4OdO-NhPa",
        "outputId": "0ac6d45f-3100-4914-f277-41df459fff61"
      },
      "source": [
        "print(y_pred)"
      ],
      "execution_count": null,
      "outputs": [
        {
          "output_type": "stream",
          "text": [
            "[17.90248517 69.64339152 29.40046436 29.40046436 27.48413449]\n"
          ],
          "name": "stdout"
        }
      ]
    },
    {
      "cell_type": "markdown",
      "metadata": {
        "id": "ySxPTGlIN3TX"
      },
      "source": [
        "**predicted score if a student studies for 9.25 hrs/ day**"
      ]
    },
    {
      "cell_type": "code",
      "metadata": {
        "id": "6bmZUMZh5QLb",
        "colab": {
          "base_uri": "https://localhost:8080/"
        },
        "outputId": "4d0441a0-97da-41af-907a-eb77a893d7e7"
      },
      "source": [
        "print(X_test)"
      ],
      "execution_count": null,
      "outputs": [
        {
          "output_type": "stream",
          "text": [
            "[[1.5]\n",
            " [6.9]\n",
            " [2.7]\n",
            " [2.7]\n",
            " [2.5]]\n"
          ],
          "name": "stdout"
        }
      ]
    },
    {
      "cell_type": "code",
      "metadata": {
        "id": "KAFO8zbx-AH1",
        "colab": {
          "base_uri": "https://localhost:8080/"
        },
        "outputId": "819b5a50-8d92-478d-93b8-ff04adf96503"
      },
      "source": [
        "hours = [[9.25]]\n",
        "own_pred = LR.predict(hours)\n",
        "print(\"No of Hours = {}\".format(hours))\n",
        "print(\"Predicted Score = {}\".format(own_pred[0]))"
      ],
      "execution_count": null,
      "outputs": [
        {
          "output_type": "stream",
          "text": [
            "No of Hours = [[9.25]]\n",
            "Predicted Score = 92.16026743486111\n"
          ],
          "name": "stdout"
        }
      ]
    },
    {
      "cell_type": "markdown",
      "metadata": {
        "id": "0AAsPVA_6KmK"
      },
      "source": [
        "### **Evaluating the model**\n",
        "\n",
        "The final step is to evaluate the performance of algorithm. This step is particularly important to compare how well different algorithms perform on a particular dataset. For simplicity here, we have chosen the mean square error. There are many such metrics."
      ]
    },
    {
      "cell_type": "code",
      "metadata": {
        "id": "r5UOrRH-5VCQ",
        "colab": {
          "base_uri": "https://localhost:8080/"
        },
        "outputId": "64d203eb-c294-40d0-d0ad-a25cc67f1603"
      },
      "source": [
        " print('Mean Absolute Error:',metrics.mean_absolute_error(y_test, y_pred))\n",
        " print('Root Mean Squared Error:',np.sqrt(metrics.mean_squared_error(y_test,y_pred)))\n",
        " print('Mean Squared Error:',metrics.mean_squared_error(y_test,y_pred))"
      ],
      "execution_count": null,
      "outputs": [
        {
          "output_type": "stream",
          "text": [
            "Mean Absolute Error: 3.9876515607532896\n",
            "Root Mean Squared Error: 4.6167861001246155\n",
            "Mean Squared Error: 21.314713894303857\n"
          ],
          "name": "stdout"
        }
      ]
    }
  ]
}